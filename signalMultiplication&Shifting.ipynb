{
  "nbformat": 4,
  "nbformat_minor": 0,
  "metadata": {
    "colab": {
      "provenance": [],
      "authorship_tag": "ABX9TyPPBlTRKGtAdIrV/PMW0JeT",
      "include_colab_link": true
    },
    "kernelspec": {
      "name": "python3",
      "display_name": "Python 3"
    },
    "language_info": {
      "name": "python"
    }
  },
  "cells": [
    {
      "cell_type": "markdown",
      "metadata": {
        "id": "view-in-github",
        "colab_type": "text"
      },
      "source": [
        "<a href=\"https://colab.research.google.com/github/Sagor0078/Signal_and_Systems/blob/main/signalMultiplication%26Shifting.ipynb\" target=\"_parent\"><img src=\"https://colab.research.google.com/assets/colab-badge.svg\" alt=\"Open In Colab\"/></a>"
      ]
    },
    {
      "cell_type": "code",
      "execution_count": 49,
      "metadata": {
        "id": "b-Us2hr82PRx",
        "colab": {
          "base_uri": "https://localhost:8080/",
          "height": 303
        },
        "outputId": "f2ac6b7f-af05-4aea-9183-cacd8649f13e"
      },
      "outputs": [
        {
          "output_type": "stream",
          "name": "stderr",
          "text": [
            "/usr/local/lib/python3.7/dist-packages/ipykernel_launcher.py:28: UserWarning: In Matplotlib 3.3 individual lines on a stem plot will be added as a LineCollection instead of individual lines. This significantly improves the performance of a stem plot. To remove this warning and switch to the new behaviour, set the \"use_line_collection\" keyword argument to True.\n"
          ]
        },
        {
          "output_type": "display_data",
          "data": {
            "text/plain": [
              "<Figure size 432x288 with 1 Axes>"
            ],
            "image/png": "[encoded data removed]"
          },
          "metadata": {
            "needs_background": "light"
          }
        }
      ],
      "source": [
        "import numpy as np\n",
        "import matplotlib.pyplot as plot\n",
        "\n",
        "x1=[0,1,2,3,4]\n",
        "x2=[2,2,2,2,2]\n",
        "n1=np.arange(0,5)  # -2 -1 0 1 2 3\n",
        "n2=np.arange(-2,3)  # -1 0 1 2 3 4 5\n",
        "n=np.arange(min(min(n1),min(n2)),max(max(n1),max(n2)))\n",
        "y1=np.zeros(len(n))\n",
        "y2=np.zeros(len(n))\n",
        "\n",
        "t=k=-1\n",
        "idx=idxs=0\n",
        "for i in n:\n",
        "    k+=1\n",
        "    for j in n1:\n",
        "        if i==j:\n",
        "            y1[k]=x1[idx]\n",
        "            idx+=1\n",
        "    t+=1\n",
        "    for s in n2:\n",
        "        if i==s:\n",
        "            y2[t]=x2[idxs]\n",
        "            idxs+=1\n",
        "\n",
        "\n",
        "y=y1*y2\n",
        "plot.stem(n,y)\n",
        "plot.show()"
      ]
    },
    {
      "cell_type": "code",
      "source": [
        "import matplotlib.pyplot as plt\n",
        "import numpy as np\n",
        "\n",
        "n = np.arange(0,9)\n",
        "x = [0,1,5,2,1,3,6,4,5]\n",
        "plt.stem(n,x);\n",
        "plt.title('x(n) signal')\n",
        "plt.xlabel('n')\n",
        "plt.ylabel('x(n)')\n",
        "plt.show()\n",
        "plt.stem(n + 2, x, 'b', markerfmt= 'bo', basefmt= 'r')\n",
        "plt.title('x(n-2) signal')\n",
        "plt.xlabel('n')\n",
        "plt.ylabel('x(n-2)')\n",
        "plt.xticks(np.arange(len(n)+2))\n",
        "plt.plot([0, 1, 2], [0, 0, 0], color= 'red')\n",
        "# plt.grid()\n",
        "plt.show()"
      ],
      "metadata": {
        "colab": {
          "base_uri": "https://localhost:8080/",
          "height": 666
        },
        "id": "176GNEeZKuyO",
        "outputId": "976485c2-24dc-42f3-cf95-e89de03297db"
      },
      "execution_count": 50,
      "outputs": [
        {
          "output_type": "stream",
          "name": "stderr",
          "text": [
            "/usr/local/lib/python3.7/dist-packages/ipykernel_launcher.py:6: UserWarning: In Matplotlib 3.3 individual lines on a stem plot will be added as a LineCollection instead of individual lines. This significantly improves the performance of a stem plot. To remove this warning and switch to the new behaviour, set the \"use_line_collection\" keyword argument to True.\n",
            "  \n"
          ]
        },
        {
          "output_type": "display_data",
          "data": {
            "text/plain": [
              "<Figure size 432x288 with 1 Axes>"
            ],
            "image/png": "[encoded data removed]"
          },
          "metadata": {
            "needs_background": "light"
          }
        },
        {
          "output_type": "stream",
          "name": "stderr",
          "text": [
            "/usr/local/lib/python3.7/dist-packages/ipykernel_launcher.py:11: UserWarning: In Matplotlib 3.3 individual lines on a stem plot will be added as a LineCollection instead of individual lines. This significantly improves the performance of a stem plot. To remove this warning and switch to the new behaviour, set the \"use_line_collection\" keyword argument to True.\n",
            "  # This is added back by InteractiveShellApp.init_path()\n"
          ]
        },
        {
          "output_type": "display_data",
          "data": {
            "text/plain": [
              "<Figure size 432x288 with 1 Axes>"
            ],
            "image/png": "[encoded data removed]"
          },
          "metadata": {
            "needs_background": "light"
          }
        }
      ]
    },
    {
      "cell_type": "code",
      "source": [],
      "metadata": {
        "id": "v-U-flpfNIkQ"
      },
      "execution_count": null,
      "outputs": []
    }
  ]
}