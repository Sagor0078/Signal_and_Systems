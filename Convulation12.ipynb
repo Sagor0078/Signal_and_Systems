{
  "nbformat": 4,
  "nbformat_minor": 0,
  "metadata": {
    "colab": {
      "provenance": [],
      "collapsed_sections": [],
      "authorship_tag": "ABX9TyPbkE7Moit0nHCnlRZPPXKg",
      "include_colab_link": true
    },
    "kernelspec": {
      "name": "python3",
      "display_name": "Python 3"
    },
    "language_info": {
      "name": "python"
    }
  },
  "cells": [
    {
      "cell_type": "markdown",
      "metadata": {
        "id": "view-in-github",
        "colab_type": "text"
      },
      "source": [
        "<a href=\"https://colab.research.google.com/github/Sagor0078/Signal_and_Systems/blob/main/Convulation12.ipynb\" target=\"_parent\"><img src=\"https://colab.research.google.com/assets/colab-badge.svg\" alt=\"Open In Colab\"/></a>"
      ]
    },
    {
      "cell_type": "code",
      "execution_count": 37,
      "metadata": {
        "id": "WeOm1d9fBe_1",
        "colab": {
          "base_uri": "https://localhost:8080/",
          "height": 606
        },
        "outputId": "970d15d6-35b9-41c9-c9af-f4b3897cc46d"
      },
      "outputs": [
        {
          "output_type": "stream",
          "name": "stderr",
          "text": [
            "/usr/local/lib/python3.7/dist-packages/ipykernel_launcher.py:10: UserWarning: In Matplotlib 3.3 individual lines on a stem plot will be added as a LineCollection instead of individual lines. This significantly improves the performance of a stem plot. To remove this warning and switch to the new behaviour, set the \"use_line_collection\" keyword argument to True.\n",
            "  # Remove the CWD from sys.path while we load stuff.\n",
            "/usr/local/lib/python3.7/dist-packages/ipykernel_launcher.py:14: UserWarning: In Matplotlib 3.3 individual lines on a stem plot will be added as a LineCollection instead of individual lines. This significantly improves the performance of a stem plot. To remove this warning and switch to the new behaviour, set the \"use_line_collection\" keyword argument to True.\n",
            "  \n",
            "/usr/local/lib/python3.7/dist-packages/ipykernel_launcher.py:21: UserWarning: In Matplotlib 3.3 individual lines on a stem plot will be added as a LineCollection instead of individual lines. This significantly improves the performance of a stem plot. To remove this warning and switch to the new behaviour, set the \"use_line_collection\" keyword argument to True.\n"
          ]
        },
        {
          "output_type": "stream",
          "name": "stdout",
          "text": [
            "[0 1 2 3 4 5 6]\n",
            "[ 1  4  8 11  9  1 -4] 7\n"
          ]
        },
        {
          "output_type": "display_data",
          "data": {
            "text/plain": [
              "<Figure size 864x576 with 3 Axes>"
            ],
            "image/png": "[encoded data removed]"
          },
          "metadata": {
            "needs_background": "light"
          }
        },
        {
          "output_type": "display_data",
          "data": {
            "text/plain": [
              "<Figure size 432x288 with 0 Axes>"
            ]
          },
          "metadata": {}
        }
      ],
      "source": [
        "import matplotlib.pyplot as plt\n",
        "# import scipy.signal as sig\n",
        "# from scipy.fftpack import fft, fftshift\n",
        "import numpy as np\n",
        "\n",
        "plt.figure(figsize=(12,8))\n",
        "a = np.array([1,2,3,4])\n",
        "x = np.arange(0,len(a),1)\n",
        "plt.subplot(2,2,1)\n",
        "plt.stem(x,a,'r')\n",
        "b = np.array([1,2,1,-1])\n",
        "plt.subplot(2,2,2)\n",
        "h = np.arange(0,len(b),1)\n",
        "plt.stem(h,b,'r')\n",
        "# generating convulation\n",
        "y = np.convolve(a,b)\n",
        "ny = np.arange(0,len(y),1)\n",
        "# print(ny)\n",
        "# print(y,len(y))\n",
        "plt.subplot(2,2,3)\n",
        "plt.stem(ny,y,'r')\n",
        "plt.show();\n",
        "# plt.grid()\n",
        "plt.tight_layout()"
      ]
    }
  ]
}