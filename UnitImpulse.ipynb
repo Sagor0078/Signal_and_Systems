{
  "nbformat": 4,
  "nbformat_minor": 0,
  "metadata": {
    "colab": {
      "provenance": [],
      "authorship_tag": "ABX9TyPxJ3iPEFG7QDVgtLOLFeg8"
    },
    "kernelspec": {
      "name": "python3",
      "display_name": "Python 3"
    },
    "language_info": {
      "name": "python"
    }
  },
  "cells": [
    {
      "cell_type": "code",
      "execution_count": 12,
      "metadata": {
        "colab": {
          "base_uri": "https://localhost:8080/",
          "height": 321
        },
        "id": "rgStx9pyd5s6",
        "outputId": "ef7a6340-917b-4751-9080-495af69373e4"
      },
      "outputs": [
        {
          "output_type": "stream",
          "name": "stderr",
          "text": [
            "/usr/local/lib/python3.7/dist-packages/ipykernel_launcher.py:13: UserWarning: In Matplotlib 3.3 individual lines on a stem plot will be added as a LineCollection instead of individual lines. This significantly improves the performance of a stem plot. To remove this warning and switch to the new behaviour, set the \"use_line_collection\" keyword argument to True.\n",
            "  del sys.path[0]\n"
          ]
        },
        {
          "output_type": "display_data",
          "data": {
            "text/plain": [
              "<Figure size 432x288 with 1 Axes>"
            ],
            "image/png": "[encoded data removed]"
          },
          "metadata": {
            "needs_background": "light"
          }
        }
      ],
      "source": [
        "import matplotlib.pyplot as plt\n",
        "import numpy as np\n",
        "\n",
        "def delta(n):\n",
        "  r = np.zeros(n.size)\n",
        "  for i in range(n.size):\n",
        "    if n[i] == 0:\n",
        "      r[i] = 1\n",
        "  return r\n",
        "\n",
        "n = np.arange(-5, 6)\n",
        "y = 2*delta(n+2) - delta(n-4)\n",
        "plt.stem(n, y)\n",
        "plt.show()"
      ]
    },
    {
      "cell_type": "code",
      "source": [],
      "metadata": {
        "id": "KiuRsOfqbKfQ"
      },
      "execution_count": null,
      "outputs": []
    }
  ]
}