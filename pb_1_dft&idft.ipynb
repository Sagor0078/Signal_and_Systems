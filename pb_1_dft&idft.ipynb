{
  "nbformat": 4,
  "nbformat_minor": 0,
  "metadata": {
    "colab": {
      "provenance": [],
      "authorship_tag": "ABX9TyNA3TlZMnimI45MVQ9Vv8EQ",
      "include_colab_link": true
    },
    "kernelspec": {
      "name": "python3",
      "display_name": "Python 3"
    },
    "language_info": {
      "name": "python"
    }
  },
  "cells": [
    {
      "cell_type": "markdown",
      "metadata": {
        "id": "view-in-github",
        "colab_type": "text"
      },
      "source": [
        "<a href=\"https://colab.research.google.com/github/Sagor0078/Signal_and_Systems/blob/main/dft%26idft.ipynb\" target=\"_parent\"><img src=\"https://colab.research.google.com/assets/colab-badge.svg\" alt=\"Open In Colab\"/></a>"
      ]
    },
    {
      "cell_type": "code",
      "execution_count": 10,
      "metadata": {
        "colab": {
          "base_uri": "https://localhost:8080/",
          "height": 444
        },
        "id": "cKxvqMKTqyK3",
        "outputId": "7aac15f8-060b-4dba-eb17-8d1092a50b8f"
      },
      "outputs": [
        {
          "output_type": "stream",
          "name": "stderr",
          "text": [
            "/usr/local/lib/python3.7/dist-packages/ipykernel_launcher.py:35: UserWarning: In Matplotlib 3.3 individual lines on a stem plot will be added as a LineCollection instead of individual lines. This significantly improves the performance of a stem plot. To remove this warning and switch to the new behaviour, set the \"use_line_collection\" keyword argument to True.\n",
            "/usr/local/lib/python3.7/dist-packages/ipykernel_launcher.py:41: UserWarning: In Matplotlib 3.3 individual lines on a stem plot will be added as a LineCollection instead of individual lines. This significantly improves the performance of a stem plot. To remove this warning and switch to the new behaviour, set the \"use_line_collection\" keyword argument to True.\n"
          ]
        },
        {
          "output_type": "display_data",
          "data": {
            "text/plain": [
              "<Figure size 1440x432 with 2 Axes>"
            ],
            "image/png": "[encoded data removed]"
          },
          "metadata": {
            "needs_background": "light"
          }
        }
      ],
      "source": [
        "import numpy as np\n",
        "import matplotlib.pyplot as plot\n",
        "from numpy.fft import fft\n",
        "\n",
        "def DFT(x):\n",
        "    N = len(x)\n",
        "    X = np.zeros((N,),dtype=np.complex128)\n",
        "    for m in range(0,N):    \n",
        "        for n in range(0,N): \n",
        "            X[m] += x[n]*np.exp(-np.pi*2j*m*n/N)\n",
        "    return X\n",
        "\n",
        "\n",
        "def IDFT(x):\n",
        "    N = len(x)\n",
        "    X = np.zeros((N,),dtype=np.complex128)\n",
        "    for m in range(0,N):\n",
        "        for n in range(0,N): \n",
        "            X[m] += x[n]*np.exp(np.pi*2j*m*n/N)\n",
        "    return X/N\n",
        "\n",
        "\n",
        "x=[1,2,3,4,5,6,5,4,3,2,1]\n",
        "sr=100\n",
        "N=len(x)\n",
        "n=np.arange(N)\n",
        "T=N/sr\n",
        "freq=n/T\n",
        "\n",
        "X=fft(x)\n",
        "plot.figure(figsize=(20,6))\n",
        "\n",
        "# DFT \n",
        "plot.subplot(121)\n",
        "plot.stem(freq,abs(X),'b',markerfmt=\" \",basefmt=\"-b\")\n",
        "plot.ylabel(\"DFT Amplitude |X(freq)|\")\n",
        "plot.xlabel(\"Freq(Hz)\")\n",
        "\n",
        "# IDFT \n",
        "plot.subplot(122)\n",
        "plot.stem(freq,abs(IDFT(X)),'b',markerfmt=\" \",basefmt=\"-b\")\n",
        "plot.ylabel(\"IDFT Amplitude |X(freq)|\")\n",
        "plot.xlabel(\"Freq(Hz)\")\n",
        "plot.show()"
      ]
    },
    {
      "cell_type": "code",
      "source": [],
      "metadata": {
        "id": "5iQfotmouYZi"
      },
      "execution_count": null,
      "outputs": []
    }
  ]
}
